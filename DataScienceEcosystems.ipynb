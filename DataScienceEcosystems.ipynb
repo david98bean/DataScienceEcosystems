{
 "cells": [
  {
   "cell_type": "markdown",
   "id": "b4ea7e9c-7a4e-4077-b009-be842317413c",
   "metadata": {},
   "source": [
    "# Data Science Tools and Ecosystems"
   ]
  },
  {
   "cell_type": "markdown",
   "id": "062b0244-e26d-4498-84fe-40c87f701ed7",
   "metadata": {},
   "source": [
    "In this notebook, Data Science Tools and Ecosystems are summarized"
   ]
  },
  {
   "cell_type": "markdown",
   "id": "78f20b0b-29b1-44ce-81e8-1ba72b19e494",
   "metadata": {},
   "source": [
    "__Objectives:__\n",
    "*  List Popular languages used in data science\n",
    "*  List Popular libraries and tools used in data science\n",
    "*  Explore examples of how python code can be used in jupyter notebooks"
   ]
  },
  {
   "cell_type": "markdown",
   "id": "1426ed45-a70e-426a-8abc-6c998eaa1e74",
   "metadata": {},
   "source": [
    "Some of the popular languages that Data Scientists use are:\n",
    "1.  Python\n",
    "2.  R\n",
    "3.  SQL"
   ]
  },
  {
   "cell_type": "markdown",
   "id": "6482a589-8812-4314-a121-2d1d6554a4b9",
   "metadata": {},
   "source": [
    "Some of the commonly used libraries used by Data Scientists include:\n",
    "1. Pandas\n",
    "2. Matplotlib\n",
    "3. TensorFlow"
   ]
  },
  {
   "cell_type": "markdown",
   "id": "2b126a93-f3f0-439d-9c96-bac3e5f1c94f",
   "metadata": {},
   "source": [
    "|Data Science Tools|\n",
    "|---|\n",
    "|RStudio|\n",
    "|Apache hadoop|\n",
    "|Apache Spark|"
   ]
  },
  {
   "cell_type": "markdown",
   "id": "2cb451b7-602d-4ece-be42-03a4615f7fbb",
   "metadata": {},
   "source": [
    "### Below are a few examples of evaluating arithmetic expressions in Python"
   ]
  },
  {
   "cell_type": "code",
   "execution_count": 1,
   "id": "35d47e6d-a739-419c-acdb-f3ad97729ef7",
   "metadata": {},
   "outputs": [
    {
     "data": {
      "text/plain": [
       "17"
      ]
     },
     "execution_count": 1,
     "metadata": {},
     "output_type": "execute_result"
    }
   ],
   "source": [
    "# This is a simple arithmetic expression to multiply then add integers\n",
    "(3*4)+5"
   ]
  },
  {
   "cell_type": "code",
   "execution_count": 5,
   "id": "7cda6817-bc16-48e3-87e9-c2344d53a2a8",
   "metadata": {},
   "outputs": [
    {
     "data": {
      "text/plain": [
       "3.3333333333333335"
      ]
     },
     "execution_count": 5,
     "metadata": {},
     "output_type": "execute_result"
    }
   ],
   "source": [
    "# This converts 200 minutes to hours.\n",
    "200/60\n"
   ]
  },
  {
   "cell_type": "markdown",
   "id": "4414ec5f-d081-466e-b843-c550581bc427",
   "metadata": {},
   "source": [
    "## Author\n",
    "David Bean\n"
   ]
  },
  {
   "cell_type": "code",
   "execution_count": null,
   "id": "69a620fe-6fce-4291-96c6-013649be209b",
   "metadata": {},
   "outputs": [],
   "source": []
  }
 ],
 "metadata": {
  "kernelspec": {
   "display_name": "Python 3 (ipykernel)",
   "language": "python",
   "name": "python3"
  },
  "language_info": {
   "codemirror_mode": {
    "name": "ipython",
    "version": 3
   },
   "file_extension": ".py",
   "mimetype": "text/x-python",
   "name": "python",
   "nbconvert_exporter": "python",
   "pygments_lexer": "ipython3",
   "version": "3.11.4"
  }
 },
 "nbformat": 4,
 "nbformat_minor": 5
}
